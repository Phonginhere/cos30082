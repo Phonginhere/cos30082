{
 "cells": [
  {
   "cell_type": "code",
   "id": "initial_id",
   "metadata": {
    "collapsed": true,
    "ExecuteTime": {
     "end_time": "2025-03-03T04:34:43.393850Z",
     "start_time": "2025-03-03T04:34:43.386936Z"
    }
   },
   "source": [
    "import pandas as pd\n",
    "# Load the CSV data into a DataFrame\n",
    "df = pd.read_csv('extracted_data.csv')\n",
    "# Display the first few rows of the DataFrame\n",
    "print(df.head())"
   ],
   "outputs": [
    {
     "name": "stdout",
     "output_type": "stream",
     "text": [
      "          Name  Age         City         Occupation\n",
      "0     John Doe   28     New York  Software Engineer\n",
      "1   Jane Smith   34  Los Angeles     Data Scientist\n",
      "2  Emily Jones   24      Chicago   Graphic Designer\n",
      "3    Chris Lee   40      Houston    Project Manager\n"
     ]
    }
   ],
   "execution_count": 2
  },
  {
   "metadata": {},
   "cell_type": "code",
   "outputs": [],
   "execution_count": null,
   "source": "",
   "id": "b8fd1ca79059a1d3"
  }
 ],
 "metadata": {
  "kernelspec": {
   "display_name": "Python 3",
   "language": "python",
   "name": "python3"
  },
  "language_info": {
   "codemirror_mode": {
    "name": "ipython",
    "version": 2
   },
   "file_extension": ".py",
   "mimetype": "text/x-python",
   "name": "python",
   "nbconvert_exporter": "python",
   "pygments_lexer": "ipython2",
   "version": "2.7.6"
  }
 },
 "nbformat": 4,
 "nbformat_minor": 5
}
